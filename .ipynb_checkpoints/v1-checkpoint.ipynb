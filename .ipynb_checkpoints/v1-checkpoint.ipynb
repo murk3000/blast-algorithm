{
 "cells": [
  {
   "cell_type": "code",
   "execution_count": 134,
   "metadata": {},
   "outputs": [],
   "source": [
    "from Bio import SeqIO\n",
    "import pandas as pd\n",
    "import pickle"
   ]
  },
  {
   "cell_type": "code",
   "execution_count": 25,
   "metadata": {},
   "outputs": [],
   "source": [
    "def getSeqDB(filename, ftype=\"fasta\"):\n",
    "    geneDB = []\n",
    "    with open(filename, 'r') as allseqs:\n",
    "        geneDB = list(SeqIO.parse(allseqs, ftype))\n",
    "    return geneDB"
   ]
  },
  {
   "cell_type": "code",
   "execution_count": 104,
   "metadata": {},
   "outputs": [],
   "source": [
    "def createKmers(k, geneDB):\n",
    "    kmers = {}\n",
    "    for seqrec in geneDB:\n",
    "        seq = seqrec.seq\n",
    "        for i in range(0, len(seq)-k+1):\n",
    "            ind = str(seq[i:i+k])\n",
    "            try: \n",
    "                kmers[ind] = kmers[ind] + [(seqrec.id, i)]\n",
    "            except:\n",
    "                kmers[ind] = [(seqrec.id , i)]\n",
    "    return kmers\n",
    "\n",
    "def saveKmers(kmers, k):\n",
    "    with open(k+'_kmers_kb.pickle', 'w') as kfile:\n",
    "        pickle.dump(kmers, kfile)\n",
    "        \n",
    "def loadKmers(k):\n",
    "    with open(k+\"_kmers_kb.pickle\", 'r') as kfile:\n",
    "        return pickle.load(kfile)\n",
    "    \n",
    "def getKmers(k, geneDB):\n",
    "                "
   ]
  },
  {
   "cell_type": "code",
   "execution_count": 109,
   "metadata": {},
   "outputs": [
    {
     "data": {
      "text/plain": [
       "6380"
      ]
     },
     "execution_count": 109,
     "metadata": {},
     "output_type": "execute_result"
    }
   ],
   "source": [
    "def matchSeq(test, kmers, k):\n",
    "    row = {'Kmer': '_', 'SeqID':'None', 'Kmer Ind':-1, 'Seq Ind':-1}\n",
    "    seqDB = []\n",
    "    \n",
    "    for i in range(0, len(test)-k+1):\n",
    "        ind = test[i:i+k]\n",
    "        try:\n",
    "            row['Kmer'] = ind\n",
    "            row['Kmer Ind'] = i\n",
    "            for seq in kmers[ind]:\n",
    "                row['SeqID'] = seq[0]\n",
    "                row['Seq Ind'] = seq[1]\n",
    "                seqDB = seqDB+[dict(row)]\n",
    "        except:\n",
    "            pass\n",
    "    return pd.DataFrame(seqDB)\n",
    "\n",
    "def rankSeq(seqDB, t, rCount=True):\n",
    "    seqDB[\"Distance\"] = seqDB.apply(lambda row: abs(row[\"Kmer Ind\"]-row[\"Seq Ind\"]), axis=1)\n",
    "    seqRank = seqDB[['SeqID', 'Kmer']].groupby(by=\"SeqID\").count().join(seqDB[['SeqID', 'Distance']].groupby(by=\"SeqID\").sum())\n",
    "    seqRank[\"Freq\"] = seqRank.apply(lambda row: row[\"Distance\"]/row[\"Kmer\"], axis=1)\n",
    "    seqRank = seqRank[seqRank['Kmer'].map(int)>t]\n",
    "    if (rCount):\n",
    "        return seqRank.sort_values(by=\"Kmer\", ascending=False)\n",
    "    else:\n",
    "        return seqRank.sort_values(by=\"Freq\").iloc[0:10]"
   ]
  },
  {
   "cell_type": "code",
   "execution_count": 133,
   "metadata": {},
   "outputs": [
    {
     "data": {
      "text/html": [
       "<div>\n",
       "<style scoped>\n",
       "    .dataframe tbody tr th:only-of-type {\n",
       "        vertical-align: middle;\n",
       "    }\n",
       "\n",
       "    .dataframe tbody tr th {\n",
       "        vertical-align: top;\n",
       "    }\n",
       "\n",
       "    .dataframe thead th {\n",
       "        text-align: right;\n",
       "    }\n",
       "</style>\n",
       "<table border=\"1\" class=\"dataframe\">\n",
       "  <thead>\n",
       "    <tr style=\"text-align: right;\">\n",
       "      <th></th>\n",
       "      <th>Kmer</th>\n",
       "      <th>Distance</th>\n",
       "      <th>Freq</th>\n",
       "    </tr>\n",
       "    <tr>\n",
       "      <th>SeqID</th>\n",
       "      <th></th>\n",
       "      <th></th>\n",
       "      <th></th>\n",
       "    </tr>\n",
       "  </thead>\n",
       "  <tbody>\n",
       "    <tr>\n",
       "      <th>sp|Q6GZX3|002L_FRG3G</th>\n",
       "      <td>412</td>\n",
       "      <td>5520</td>\n",
       "      <td>13.398058</td>\n",
       "    </tr>\n",
       "    <tr>\n",
       "      <th>sp|Q8R5A3|AB1IP_MOUSE</th>\n",
       "      <td>41</td>\n",
       "      <td>10510</td>\n",
       "      <td>256.341463</td>\n",
       "    </tr>\n",
       "    <tr>\n",
       "      <th>sp|Q91G63|034R_IIV6</th>\n",
       "      <td>40</td>\n",
       "      <td>10558</td>\n",
       "      <td>263.950000</td>\n",
       "    </tr>\n",
       "    <tr>\n",
       "      <th>sp|Q6PFT9|AB1IP_DANRE</th>\n",
       "      <td>36</td>\n",
       "      <td>9418</td>\n",
       "      <td>261.611111</td>\n",
       "    </tr>\n",
       "    <tr>\n",
       "      <th>sp|Q7Z5R6|AB1IP_HUMAN</th>\n",
       "      <td>25</td>\n",
       "      <td>6943</td>\n",
       "      <td>277.720000</td>\n",
       "    </tr>\n",
       "    <tr>\n",
       "      <th>sp|Q55FT9|ABIA_DICDI</th>\n",
       "      <td>17</td>\n",
       "      <td>460</td>\n",
       "      <td>27.058824</td>\n",
       "    </tr>\n",
       "    <tr>\n",
       "      <th>sp|Q8CBW3|ABI1_MOUSE</th>\n",
       "      <td>16</td>\n",
       "      <td>1436</td>\n",
       "      <td>89.750000</td>\n",
       "    </tr>\n",
       "    <tr>\n",
       "      <th>sp|Q8IZP0|ABI1_HUMAN</th>\n",
       "      <td>16</td>\n",
       "      <td>1868</td>\n",
       "      <td>116.750000</td>\n",
       "    </tr>\n",
       "    <tr>\n",
       "      <th>sp|Q9QZM5|ABI1_RAT</th>\n",
       "      <td>16</td>\n",
       "      <td>1356</td>\n",
       "      <td>84.750000</td>\n",
       "    </tr>\n",
       "    <tr>\n",
       "      <th>sp|Q6DCV1|AB1IP_XENLA</th>\n",
       "      <td>15</td>\n",
       "      <td>4030</td>\n",
       "      <td>268.666667</td>\n",
       "    </tr>\n",
       "  </tbody>\n",
       "</table>\n",
       "</div>"
      ],
      "text/plain": [
       "                       Kmer  Distance        Freq\n",
       "SeqID                                            \n",
       "sp|Q6GZX3|002L_FRG3G    412      5520   13.398058\n",
       "sp|Q8R5A3|AB1IP_MOUSE    41     10510  256.341463\n",
       "sp|Q91G63|034R_IIV6      40     10558  263.950000\n",
       "sp|Q6PFT9|AB1IP_DANRE    36      9418  261.611111\n",
       "sp|Q7Z5R6|AB1IP_HUMAN    25      6943  277.720000\n",
       "sp|Q55FT9|ABIA_DICDI     17       460   27.058824\n",
       "sp|Q8CBW3|ABI1_MOUSE     16      1436   89.750000\n",
       "sp|Q8IZP0|ABI1_HUMAN     16      1868  116.750000\n",
       "sp|Q9QZM5|ABI1_RAT       16      1356   84.750000\n",
       "sp|Q6DCV1|AB1IP_XENLA    15      4030  268.666667"
      ]
     },
     "execution_count": 133,
     "metadata": {},
     "output_type": "execute_result"
    }
   ],
   "source": [
    "def main(filename, testseq, k=11, threshold=2):\n",
    "    \n",
    "    if (False):\n",
    "        pass\n",
    "    else:\n",
    "        kmers = createKmers(k, getSeqDB(filename))\n",
    "        \n",
    "    seqRank = rankSeq(matchSeq(testseq, kmers, k), threshold)\n",
    "    return (seqRank)\n",
    "    \n",
    "seqRank = main(\"small.fasta\", \"\"\"MSIIGATRLQNDKSDTYSAGPCYAGGCSAFTPRGTCGKDWDLGEQTCASGFCTSQPLCAR\n",
    "    IKKTQVCGLRYSSKGKDPLVSAEWDSRGAPYVRCTYDADLIDTQAQVDQFVSMFGESPSL\n",
    "    AERYCMRGVKNTAGELVSRVSSDADPAGGWCRKWYSAHRGPDQDAALGSFCIKNPGAADC\n",
    "    KCINRASDPVYQKVKTLHAYPDQCWYVPCAADVGELKMGTQRDTPTNCPTQVCQIVFNML\n",
    "    DDGSVTMDDVKNTINCDFSKYVPPPPPPKPTPPTPPTPPTPPTPPTPPTPPTPRPVHNRK\n",
    "    VMFFVAGAVLVAILISTVRW\"\"\", 5, 13)\n",
    "seqRank"
   ]
  },
  {
   "cell_type": "code",
   "execution_count": null,
   "metadata": {},
   "outputs": [],
   "source": []
  },
  {
   "cell_type": "code",
   "execution_count": null,
   "metadata": {},
   "outputs": [],
   "source": []
  },
  {
   "cell_type": "code",
   "execution_count": null,
   "metadata": {},
   "outputs": [],
   "source": []
  },
  {
   "cell_type": "code",
   "execution_count": null,
   "metadata": {},
   "outputs": [],
   "source": []
  },
  {
   "cell_type": "code",
   "execution_count": null,
   "metadata": {},
   "outputs": [],
   "source": []
  }
 ],
 "metadata": {
  "kernelspec": {
   "display_name": "Python 3",
   "language": "python",
   "name": "python3"
  },
  "language_info": {
   "codemirror_mode": {
    "name": "ipython",
    "version": 3
   },
   "file_extension": ".py",
   "mimetype": "text/x-python",
   "name": "python",
   "nbconvert_exporter": "python",
   "pygments_lexer": "ipython3",
   "version": "3.7.3"
  }
 },
 "nbformat": 4,
 "nbformat_minor": 4
}
