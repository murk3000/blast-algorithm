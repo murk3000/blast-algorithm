{
 "cells": [
  {
   "cell_type": "markdown",
   "metadata": {},
   "source": [
    "<h1>BLAST Algorithm<h1>"
   ]
  },
  {
   "cell_type": "markdown",
   "metadata": {},
   "source": [
    "<h4>Packages required by this implementation: </h4><br>\n",
    "    1. Biopython - allows reading FASTA format files<br>\n",
    "    2. TQDM - a progress bar implementation<br>\n",
    "    3. Pandas - data analysis and storage library that provides DataFrames as a storage structure<br>\n",
    "    4. Pickle - storing and restoring different variables from and back into python  "
   ]
  },
  {
   "cell_type": "code",
   "execution_count": 1,
   "metadata": {},
   "outputs": [],
   "source": [
    "from Bio import SeqIO\n",
    "from tqdm import tqdm\n",
    "import pandas as pd\n",
    "import pickle"
   ]
  },
  {
   "cell_type": "markdown",
   "metadata": {},
   "source": [
    "<h4>Functions<h4>\n",
    "    <h5>getSeqDB(filename, ftype)</h5>\n",
    "    Parses through all sequences in a given file and returns a Database in list form."
   ]
  },
  {
   "cell_type": "code",
   "execution_count": 2,
   "metadata": {},
   "outputs": [],
   "source": [
    "def getSeqDB(filename, ftype=\"fasta\"):\n",
    "    geneDB = []\n",
    "    with open(filename, 'r') as allseqs:\n",
    "        geneDB = list(SeqIO.parse(allseqs, ftype))\n",
    "    return geneDB"
   ]
  },
  {
   "cell_type": "markdown",
   "metadata": {},
   "source": [
    "<h5>getKmers(kemr_size:k, filename)</h5> \n",
    "Checks if there is a file for k kmer size availible and loads it. Otherwise creates a k size file."
   ]
  },
  {
   "cell_type": "code",
   "execution_count": 3,
   "metadata": {},
   "outputs": [],
   "source": [
    "def getKmers(k, filename):\n",
    "    try:\n",
    "        return loadKmers(k, filename)\n",
    "    except:\n",
    "        kmers = createKmers(k, getSeqDB(filename))\n",
    "        saveKmers(kmers, str(k), filename)\n",
    "        return kmers"
   ]
  },
  {
   "cell_type": "markdown",
   "metadata": {},
   "source": [
    "<h5>createKmers(kmer_size:k, sequence_list:geneDB)</h5>\n",
    "    Given a list of sequences, generates the kmers for each and saves it into a dictionary."
   ]
  },
  {
   "cell_type": "code",
   "execution_count": 4,
   "metadata": {},
   "outputs": [],
   "source": [
    "def createKmers(k, geneDB, kmers={}):\n",
    "    for j in tqdm(range(len(geneDB)), desc=\"Creating Kmers DB\"):\n",
    "        seqrec = geneDB[j]\n",
    "        seq = seqrec.seq\n",
    "        for i in range(0, len(seq)-k+1):\n",
    "            ind = str(seq[i:i+k])\n",
    "            try: \n",
    "                kmers[ind] = kmers[ind] + [(seqrec.id, i)]\n",
    "            except:\n",
    "                kmers[ind] = [(seqrec.id , i)]\n",
    "    return kmers"
   ]
  },
  {
   "cell_type": "markdown",
   "metadata": {},
   "source": [
    "<h5>saveKmers(kmers, kmer_size:k, filename)</h5>\n",
    "    Given a dictionary of kmers, kmers, saveKmers saves the list in a file using the Pickle library.\n",
    "<h5>loadKmers(kmer_size:k, filename)</h5>\n",
    "    Opens and loads the k-th size file."
   ]
  },
  {
   "cell_type": "code",
   "execution_count": 5,
   "metadata": {},
   "outputs": [],
   "source": [
    "def saveKmers(kmers, k, filename):\n",
    "    with open(str(k)+'_kmers_'+filename+'_kb.pickle', 'wb') as kfile:\n",
    "        pickle.dump(kmers, kfile)\n",
    "        \n",
    "def loadKmers(k, filename):\n",
    "    with open(str(k)+'_kmers_'+filename+'_kb.pickle', 'rb') as kfile:\n",
    "        return pickle.load(kfile)"
   ]
  },
  {
   "cell_type": "markdown",
   "metadata": {},
   "source": [
    "<h5>matchSeq(input_sequence:test, kmers, kmer_size:k)</h5>\n",
    "Creates a dataframe with each Kmer of the input sequence and matches it to all complete Kmer matches in the database"
   ]
  },
  {
   "cell_type": "code",
   "execution_count": 6,
   "metadata": {},
   "outputs": [],
   "source": [
    "def matchSeq(test, kmers, k):\n",
    "    row = {'Kmer': '_', 'SeqID':'None', 'Kmer Ind':-1, 'Seq Ind':-1}\n",
    "    seqDB = []\n",
    "    \n",
    "    for i in tqdm(range(0, len(test)-k+1), desc=\"Matching Kmers\"):\n",
    "        ind = test[i:i+k]\n",
    "        try:\n",
    "            row['Kmer'] = ind\n",
    "            row['Kmer Ind'] = i\n",
    "            for seq in kmers[ind]:\n",
    "                row['SeqID'] = seq[0]\n",
    "                row['Seq Ind'] = seq[1]\n",
    "                seqDB = seqDB+[dict(row)]\n",
    "        except:\n",
    "            pass\n",
    "    return pd.DataFrame(seqDB)"
   ]
  },
  {
   "cell_type": "markdown",
   "metadata": {},
   "source": [
    "<h5>combineMatches(input_match:seqDB)</h5>\n",
    "Takes the matched DataFrame and yields the continous sequences from each queried sequence and database sequence in a subsequence object<br><br>\n",
    "\n",
    "<p>Splits the matched DataFrame by the Sequence IDs<br>\n",
    "    Reads every row within each splitted DataFrame<br>\n",
    "    Checks for continuity by comparing each Index with previous index and expecting a difference of 1 for continuity, 0 for different match, and any other number for no more continuity.\n",
    "    </p>"
   ]
  },
  {
   "cell_type": "code",
   "execution_count": 7,
   "metadata": {},
   "outputs": [],
   "source": [
    "def combineMatches(seqDB):\n",
    "    subseq = []\n",
    "    seqDB = seqDB.sort_values(by='Kmer Ind')\n",
    "    seqIDs = seqDB[\"SeqID\"].unique()\n",
    "    for k in tqdm(range(len(seqIDs)), desc=\"Combining Results\"):\n",
    "        s = seqIDs[k]\n",
    "        tempDB = seqDB[seqDB[\"SeqID\"]==s]\n",
    "        s_seq = e_seq = []\n",
    "        temp = []\n",
    "\n",
    "        for j in range(0, len(tempDB)): \n",
    "            row = tempDB.iloc[j]\n",
    "            rem = []\n",
    "            toAdd = True\n",
    "\n",
    "            for i in range(0, len(e_seq)):\n",
    "                if row['Kmer Ind'] - e_seq[i][0] > 1:\n",
    "                    rem = rem + [i]\n",
    "                elif row['Kmer Ind'] == e_seq[i][0]:\n",
    "                    if row['Seq Ind'] == e_seq[i][1]:\n",
    "                        toAdd = False\n",
    "                elif row['Kmer Ind'] - e_seq[i][0] == 1:\n",
    "                    if row['Seq Ind'] - e_seq[i][1] == 1:\n",
    "                        e_seq[i] = (row['Kmer Ind'], row['Seq Ind'])\n",
    "                        toAdd = False\n",
    "                    elif row['Seq Ind'] == e_seq[i][1]:\n",
    "                        toAdd = False\n",
    "                else:\n",
    "                    print(\"HELP: ERROR\")\n",
    "            if toAdd:\n",
    "                e_seq = e_seq + [(row['Kmer Ind'], row['Seq Ind'])]\n",
    "                s_seq = s_seq + [(row['Kmer Ind'], row['Seq Ind'])]\n",
    "\n",
    "            for i in range(0, len(rem)):\n",
    "                temp = temp+[((s_seq[rem[i]-i][0], e_seq[rem[i]-i][0]), (s_seq[rem[i]-i][1], e_seq[rem[i]-i][1]))]\n",
    "                del s_seq[rem[i]-i]\n",
    "                del e_seq[rem[i]-i]\n",
    "\n",
    "        for sS, eS in zip(s_seq, e_seq):\n",
    "            temp = temp + [((sS[0], eS[0]), (sS[1], eS[1]))]\n",
    "        subseq = subseq + [(temp, s)]\n",
    "    return subseq"
   ]
  },
  {
   "cell_type": "markdown",
   "metadata": {},
   "source": [
    "<h5>rankMatches(subsequence_object:subseq, kmer_size:k)</h5>\n",
    "Converts the subsequence object into a DataFrame for better readability and conformity to output structure\n",
    "<br><h6>NOTE: doesn't really rank the matches, just converts it into a format that can be ranked"
   ]
  },
  {
   "cell_type": "code",
   "execution_count": 8,
   "metadata": {},
   "outputs": [],
   "source": [
    "def rankMatches(subseq, k):\n",
    "    row = {'matching #': -1, 'inp start':-1, 'inp end':-1, 'inp length':-1, 'Seq ID':'None', 'seq start':-1, 'seq end':-1, 'seq length':-1}\n",
    "    matchDF = []\n",
    "    for i in tqdm(range(len(subseq)), desc=\"Converting to DataFrame\"):\n",
    "        v = subseq[i]\n",
    "        row['Seq ID'] = v[1]\n",
    "        for s in v[0]:\n",
    "            row['matching #'] = s[0][1]-s[0][0]+1\n",
    "            row['inp start'] = s[0][0]\n",
    "            row['inp end'] = s[0][1]+k\n",
    "            row['seq start'] = s[1][0]\n",
    "            row['seq end'] = s[1][1]+k\n",
    "            row['inp length'] = row['inp end'] - row['inp start']\n",
    "            row['seq length'] = row['seq end'] - row['seq start']\n",
    "            matchDF = matchDF + [dict(row)]\n",
    "\n",
    "    return pd.DataFrame(matchDF)[['Seq ID', 'matching #', 'inp start', 'inp end', 'inp length', 'seq start', 'seq end', 'seq length']].sort_values(by='matching #', ascending=False).reset_index(drop=True)"
   ]
  },
  {
   "cell_type": "markdown",
   "metadata": {},
   "source": [
    "<h4>input functions</h4>\n",
    "Takes different inputs from the user to run the whole program"
   ]
  },
  {
   "cell_type": "code",
   "execution_count": 9,
   "metadata": {},
   "outputs": [],
   "source": [
    "def u_input():\n",
    "    print(\"1. Create Sequence Database\")\n",
    "    print(\"2. Append Sequence Database\")\n",
    "    print(\"3. Compare Sequences\")\n",
    "    print(\"4. Quit\")\n",
    "    \n",
    "    c1 = int(input(prompt=\"Choose: \"))      \n",
    "\n",
    "    if c1==1:\n",
    "        createDB()\n",
    "    elif c1==2:\n",
    "        appendDB()\n",
    "    elif c1==3:\n",
    "        comp = compSeq()\n",
    "        return True, comp\n",
    "    else:\n",
    "        return False, False\n",
    "    return True, False\n",
    "    \n",
    "def createDB():\n",
    "    fname = str(input(\"Enter filename: \"))\n",
    "    k = int(input(\"Number of Kmers: \"))\n",
    "    getKmers(k, fname)\n",
    "\n",
    "def appendDB():\n",
    "    fname = str(input(\"Enter file to append to: \"))\n",
    "    filename = str(input(\"Enter file with sequences to: \"))\n",
    "    k = int(input(\"Number of Kmers: \"))\n",
    "    saveKmers(createKmers(filename, k, loadKmers(k, fname)), str(k), fname)\n",
    "\n",
    "    \n",
    "def compSeq():\n",
    "    print(\"1. Default Comparison\")\n",
    "    print(\"2. Custom Comparison\")\n",
    "    \n",
    "    c1 = int(input(\"Choose: \"))\n",
    "    if c1 == 1:\n",
    "        k = 7\n",
    "        filename = \"small.fasta\"\n",
    "    else: \n",
    "        k = input(\"Size of Kmer: \")\n",
    "        filename = input(\"Filename containing sequences: \")\n",
    "    \n",
    "    fname = str(input(\"Enter file to read Sequences from: \"))\n",
    "    seq = [x.seq for x in getSeqDB(fname)]\n",
    "    print(\"Kmer DB...\")\n",
    "    kmers = getKmers(k, filename) \n",
    "    \n",
    "    ret = []\n",
    "    for i in range(len(seq)):\n",
    "        s = seq[i]\n",
    "        print(\"Matching...\")\n",
    "        seqDB = matchSeq(s, kmers, k)\n",
    "        print(\"Combining...\")\n",
    "        subseq = combineMatches(seqDB)\n",
    "        print(\"Displaying...\")\n",
    "        seqRank = rankMatches(subseq, k)\n",
    "        seqRank['Query ID'] = pd.Series([i for _ in range(len(seqRank))])\n",
    "        if (ret!=[]):\n",
    "            ret = (pd.concat([ret[0], seqRank], ignore_index=True), pd.concat([ret[1], seqDB], ignore_index=True))\n",
    "        else:\n",
    "            ret = (seqRank, seqDB)\n",
    "    return ret\n",
    "\n",
    "def main():\n",
    "    loop = True\n",
    "    while(loop):\n",
    "        loop, ans = u_input()\n",
    "        if (type(ans) is not bool):\n",
    "            return ans\n",
    "    return False"
   ]
  },
  {
   "cell_type": "code",
   "execution_count": 10,
   "metadata": {},
   "outputs": [
    {
     "name": "stdout",
     "output_type": "stream",
     "text": [
      "1. Create Sequence Database\n",
      "2. Append Sequence Database\n",
      "3. Compare Sequences\n",
      "4. Quit\n"
     ]
    },
    {
     "name": "stdin",
     "output_type": "stream",
     "text": [
      "Choose:  3\n"
     ]
    },
    {
     "name": "stdout",
     "output_type": "stream",
     "text": [
      "1. Default Comparison\n",
      "2. Custom Comparison\n"
     ]
    },
    {
     "name": "stdin",
     "output_type": "stream",
     "text": [
      "Choose:  1\n",
      "Enter file to read Sequences from:  input_seq.fasta\n"
     ]
    },
    {
     "name": "stdout",
     "output_type": "stream",
     "text": [
      "Kmer DB...\n",
      "Matching...\n"
     ]
    },
    {
     "name": "stderr",
     "output_type": "stream",
     "text": [
      "Matching Kmers:   0%|                                                                          | 0/432 [00:00<?, ?it/s]D:\\Users\\HP\\Anaconda3\\lib\\site-packages\\Bio\\Seq.py:175: BiopythonWarning: Biopython Seq objects now use string comparison. Older versions of Biopython used object comparison. During this transition, please use hash(id(my_seq)) or my_dict[id(my_seq)] if you want the old behaviour, or use hash(str(my_seq)) or my_dict[str(my_seq)] for the new string hashing behaviour.\n",
      "  \"the new string hashing behaviour.\", BiopythonWarning)\n",
      "Matching Kmers: 100%|██████████████████████████████████████████████████████████████| 432/432 [00:00<00:00, 9182.89it/s]\n"
     ]
    },
    {
     "name": "stdout",
     "output_type": "stream",
     "text": [
      "Combining...\n"
     ]
    },
    {
     "name": "stderr",
     "output_type": "stream",
     "text": [
      "Combining Results: 100%|█████████████████████████████████████████████████████████████████| 3/3 [00:00<00:00, 29.72it/s]\n"
     ]
    },
    {
     "name": "stdout",
     "output_type": "stream",
     "text": [
      "Displaying...\n"
     ]
    },
    {
     "name": "stderr",
     "output_type": "stream",
     "text": [
      "Converting to DataFrame: 100%|█████████████████████████████████████████████████████████| 3/3 [00:00<00:00, 3003.08it/s]\n"
     ]
    },
    {
     "name": "stdout",
     "output_type": "stream",
     "text": [
      "Matching...\n"
     ]
    },
    {
     "name": "stderr",
     "output_type": "stream",
     "text": [
      "Matching Kmers:   0%|                                                                          | 0/845 [00:00<?, ?it/s]D:\\Users\\HP\\Anaconda3\\lib\\site-packages\\Bio\\Seq.py:175: BiopythonWarning: Biopython Seq objects now use string comparison. Older versions of Biopython used object comparison. During this transition, please use hash(id(my_seq)) or my_dict[id(my_seq)] if you want the old behaviour, or use hash(str(my_seq)) or my_dict[str(my_seq)] for the new string hashing behaviour.\n",
      "  \"the new string hashing behaviour.\", BiopythonWarning)\n",
      "Matching Kmers: 100%|█████████████████████████████████████████████████████████████| 845/845 [00:00<00:00, 60398.55it/s]\n"
     ]
    },
    {
     "name": "stdout",
     "output_type": "stream",
     "text": [
      "Combining...\n"
     ]
    },
    {
     "name": "stderr",
     "output_type": "stream",
     "text": [
      "Combining Results: 100%|█████████████████████████████████████████████████████████████████| 6/6 [00:00<00:00, 24.81it/s]\n"
     ]
    },
    {
     "name": "stdout",
     "output_type": "stream",
     "text": [
      "Displaying...\n"
     ]
    },
    {
     "name": "stderr",
     "output_type": "stream",
     "text": [
      "Converting to DataFrame: 100%|█████████████████████████████████████████████████████████| 6/6 [00:00<00:00, 6006.16it/s]\n"
     ]
    },
    {
     "name": "stdout",
     "output_type": "stream",
     "text": [
      "Matching...\n"
     ]
    },
    {
     "name": "stderr",
     "output_type": "stream",
     "text": [
      "Matching Kmers:   0%|                                                                          | 0/142 [00:00<?, ?it/s]D:\\Users\\HP\\Anaconda3\\lib\\site-packages\\Bio\\Seq.py:175: BiopythonWarning: Biopython Seq objects now use string comparison. Older versions of Biopython used object comparison. During this transition, please use hash(id(my_seq)) or my_dict[id(my_seq)] if you want the old behaviour, or use hash(str(my_seq)) or my_dict[str(my_seq)] for the new string hashing behaviour.\n",
      "  \"the new string hashing behaviour.\", BiopythonWarning)\n",
      "Matching Kmers: 100%|█████████████████████████████████████████████████████████████| 142/142 [00:00<00:00, 71081.41it/s]\n"
     ]
    },
    {
     "name": "stdout",
     "output_type": "stream",
     "text": [
      "Combining...\n"
     ]
    },
    {
     "name": "stderr",
     "output_type": "stream",
     "text": [
      "Combining Results: 100%|█████████████████████████████████████████████████████████████████| 1/1 [00:00<00:00, 22.24it/s]\n"
     ]
    },
    {
     "name": "stdout",
     "output_type": "stream",
     "text": [
      "Displaying...\n"
     ]
    },
    {
     "name": "stderr",
     "output_type": "stream",
     "text": [
      "Converting to DataFrame: 100%|███████████████████████████████████████████████████████████████████| 1/1 [00:00<?, ?it/s]\n"
     ]
    },
    {
     "name": "stdout",
     "output_type": "stream",
     "text": [
      "                   Seq ID  matching #  inp start  inp end  inp length  \\\n",
      "0    sp|Q6GZX2|003R_FRG3G         432          0      438         438   \n",
      "1   sp|Q8GYY0|1A112_ARATH           2        273      281           8   \n",
      "2    sp|A1AN64|ACCD_PELPD           1         12       19           7   \n",
      "3    sp|Q6GZV6|019R_FRG3G         845          0      851         851   \n",
      "4    sp|Q6GZV6|019R_FRG3G          13         65       84          19   \n",
      "5    sp|Q6GZV6|019R_FRG3G          13        135      154          19   \n",
      "6    sp|Q6GZV6|019R_FRG3G          10         12       28          16   \n",
      "7    sp|Q6GZV6|019R_FRG3G          10        145      161          16   \n",
      "8    sp|Q6GZV6|019R_FRG3G           9         22       37          15   \n",
      "9    sp|Q6GZV6|019R_FRG3G           9         85      100          15   \n",
      "10   sp|Q6GZV6|019R_FRG3G           5        205      216          11   \n",
      "11   sp|Q6GZV6|019R_FRG3G           5        371      382          11   \n",
      "12   sp|Q6GZV6|019R_FRG3G           5        358      369          11   \n",
      "13   sp|Q6GZV6|019R_FRG3G           5        200      211          11   \n",
      "14   sp|Q6GZV6|019R_FRG3G           3        308      317           9   \n",
      "15   sp|Q6GZV6|019R_FRG3G           3        255      264           9   \n",
      "16   sp|Q6GZV6|019R_FRG3G           3         12       21           9   \n",
      "17   sp|Q6GZV6|019R_FRG3G           3         75       84           9   \n",
      "18   sp|B8JBU6|3MGH_ANAD2           2         51       59           8   \n",
      "19   sp|B4UIZ5|3MGH_ANASK           2         51       59           8   \n",
      "20   sp|Q6GZV6|019R_FRG3G           1        143      150           7   \n",
      "21   sp|Q6GZV6|019R_FRG3G           1        307      314           7   \n",
      "22   sp|Q6GZV6|019R_FRG3G           1        307      314           7   \n",
      "23   sp|Q6GZV6|019R_FRG3G           1        119      126           7   \n",
      "24   sp|Q6GZV6|019R_FRG3G           1        108      115           7   \n",
      "25   sp|Q6GZV6|019R_FRG3G           1         73       80           7   \n",
      "26   sp|Q0A5T6|ACDH_ALKEH           1         52       59           7   \n",
      "27  sp|Q8W1W9|5MAT1_SALSN           1        201      208           7   \n",
      "28  sp|Q8W1W9|5MAT1_SALSN           1        206      213           7   \n",
      "29   sp|P78789|AAKB_SCHPO           1        349      356           7   \n",
      "30   sp|Q6GZV5|020R_FRG3G         142          0      148         148   \n",
      "31   sp|Q6GZV5|020R_FRG3G           2         32       40           8   \n",
      "32   sp|Q6GZV5|020R_FRG3G           2         37       45           8   \n",
      "\n",
      "    seq start  seq end  seq length  Query ID  \n",
      "0           0      438         438         0  \n",
      "1         423      431           8         0  \n",
      "2          59       66           7         0  \n",
      "3           0      851         851         1  \n",
      "4         135      154          19         1  \n",
      "5          65       84          19         1  \n",
      "6         145      161          16         1  \n",
      "7          12       28          16         1  \n",
      "8          85      100          15         1  \n",
      "9          22       37          15         1  \n",
      "10        200      211          11         1  \n",
      "11        358      369          11         1  \n",
      "12        371      382          11         1  \n",
      "13        205      216          11         1  \n",
      "14        255      264           9         1  \n",
      "15        308      317           9         1  \n",
      "16         75       84           9         1  \n",
      "17         12       21           9         1  \n",
      "18        184      192           8         1  \n",
      "19        184      192           8         1  \n",
      "20        307      314           7         1  \n",
      "21         73       80           7         1  \n",
      "22        143      150           7         1  \n",
      "23        108      115           7         1  \n",
      "24        119      126           7         1  \n",
      "25        307      314           7         1  \n",
      "26        276      283           7         1  \n",
      "27        450      457           7         1  \n",
      "28        450      457           7         1  \n",
      "29         70       77           7         1  \n",
      "30          0      148         148         2  \n",
      "31         37       45           8         2  \n",
      "32         32       40           8         2  \n"
     ]
    }
   ],
   "source": [
    "seqList = main()\n",
    "if (type(seqList) is not bool):\n",
    "    print(seqList[0])"
   ]
  },
  {
   "cell_type": "code",
   "execution_count": null,
   "metadata": {},
   "outputs": [],
   "source": [
    "#Extra Function that ranks the sequences based on  either the # of matched Kmers or the frequency (defined as the sum of distance each Kmer Index is away from Sequence Index divided by the count of Kmers)\n",
    "\n",
    "def rankSeq(seqDB, t, rCount=True):\n",
    "    seqDB[\"Distance\"] = seqDB.apply(lambda row: abs(row[\"Kmer Ind\"]-row[\"Seq Ind\"]), axis=1)\n",
    "    seqRank = seqDB[['SeqID', 'Kmer']].groupby(by=\"SeqID\").count().join(seqDB[['SeqID', 'Distance']].groupby(by=\"SeqID\").sum())\n",
    "    seqRank[\"Freq\"] = seqRank.apply(lambda row: row[\"Distance\"]/row[\"Kmer\"], axis=1)\n",
    "    seqRank = seqRank[seqRank['Kmer'].map(int)>t]\n",
    "    if (rCount):\n",
    "        return seqRank.sort_values(by=\"Kmer\", ascending=False), seqDB\n",
    "    else:\n",
    "        return seqRank.sort_values(by=\"Freq\").iloc[0:10], seqDB"
   ]
  }
 ],
 "metadata": {
  "kernelspec": {
   "display_name": "Python 3",
   "language": "python",
   "name": "python3"
  },
  "language_info": {
   "codemirror_mode": {
    "name": "ipython",
    "version": 3
   },
   "file_extension": ".py",
   "mimetype": "text/x-python",
   "name": "python",
   "nbconvert_exporter": "python",
   "pygments_lexer": "ipython3",
   "version": "3.7.3"
  }
 },
 "nbformat": 4,
 "nbformat_minor": 4
}
